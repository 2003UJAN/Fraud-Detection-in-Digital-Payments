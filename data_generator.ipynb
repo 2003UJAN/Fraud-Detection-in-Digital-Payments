{
  "cells": [
    {
      "cell_type": "markdown",
      "metadata": {
        "id": "view-in-github",
        "colab_type": "text"
      },
      "source": [
        "<a href=\"https://colab.research.google.com/github/2003UJAN/Fraud-Detection-in-Digital-Payments/blob/main/data_generator.ipynb\" target=\"_parent\"><img src=\"https://colab.research.google.com/assets/colab-badge.svg\" alt=\"Open In Colab\"/></a>"
      ]
    },
    {
      "cell_type": "code",
      "source": [
        "!pip install Faker"
      ],
      "metadata": {
        "colab": {
          "base_uri": "https://localhost:8080/"
        },
        "id": "lXy_XWQHIC7F",
        "outputId": "100705cd-0ffa-4a04-9d02-5094b4a175a4"
      },
      "execution_count": 17,
      "outputs": [
        {
          "output_type": "stream",
          "name": "stdout",
          "text": [
            "Collecting Faker\n",
            "  Downloading faker-37.1.0-py3-none-any.whl.metadata (15 kB)\n",
            "Requirement already satisfied: tzdata in /usr/local/lib/python3.11/dist-packages (from Faker) (2025.1)\n",
            "Downloading faker-37.1.0-py3-none-any.whl (1.9 MB)\n",
            "\u001b[2K   \u001b[90m━━━━━━━━━━━━━━━━━━━━━━━━━━━━━━━━━━━━━━━━\u001b[0m \u001b[32m1.9/1.9 MB\u001b[0m \u001b[31m20.6 MB/s\u001b[0m eta \u001b[36m0:00:00\u001b[0m\n",
            "\u001b[?25hInstalling collected packages: Faker\n",
            "Successfully installed Faker-37.1.0\n"
          ]
        }
      ]
    },
    {
      "cell_type": "code",
      "source": [
        "import pandas as pd\n",
        "import numpy as np\n",
        "import random\n",
        "import faker"
      ],
      "metadata": {
        "id": "XRSJyd3_GwSc"
      },
      "execution_count": 18,
      "outputs": []
    },
    {
      "cell_type": "code",
      "source": [
        "fake = faker.Faker()"
      ],
      "metadata": {
        "id": "nu5rGZuoG1z9"
      },
      "execution_count": 19,
      "outputs": []
    },
    {
      "cell_type": "code",
      "source": [
        "np.random.seed(42)\n",
        "random.seed(42)"
      ],
      "metadata": {
        "id": "LtbLy79MG4mW"
      },
      "execution_count": 20,
      "outputs": []
    },
    {
      "cell_type": "code",
      "source": [
        "num_transactions = 20_000"
      ],
      "metadata": {
        "id": "vB1aCzfLG6wa"
      },
      "execution_count": 21,
      "outputs": []
    },
    {
      "cell_type": "code",
      "source": [
        "transaction_amounts = np.round(np.random.lognormal(mean=3, sigma=1, size=num_transactions), 2)"
      ],
      "metadata": {
        "id": "J_fTGxn_G81L"
      },
      "execution_count": 22,
      "outputs": []
    },
    {
      "cell_type": "code",
      "source": [
        "transaction_times = np.random.randint(0, 24, num_transactions)"
      ],
      "metadata": {
        "id": "LIA1FlpRG-27"
      },
      "execution_count": 23,
      "outputs": []
    },
    {
      "cell_type": "code",
      "source": [
        "locations = np.random.choice([\"NYC\", \"SFO\", \"LON\", \"SGP\", \"TKY\", \"SYD\", \"BER\", \"PAR\"], num_transactions)"
      ],
      "metadata": {
        "id": "F5U2dN26HG1q"
      },
      "execution_count": 24,
      "outputs": []
    },
    {
      "cell_type": "code",
      "source": [
        "device_types = np.random.choice([\"Mobile\", \"Desktop\", \"Tablet\", \"Smartwatch\"], num_transactions)"
      ],
      "metadata": {
        "id": "ezmz7yVnHO4W"
      },
      "execution_count": 25,
      "outputs": []
    },
    {
      "cell_type": "code",
      "source": [
        "ip_addresses = [fake.ipv4() for _ in range(num_transactions)]"
      ],
      "metadata": {
        "id": "n8eOj8rmHVY7"
      },
      "execution_count": 26,
      "outputs": []
    },
    {
      "cell_type": "code",
      "source": [
        "transaction_types = np.random.choice([\"Online Purchase\", \"ATM Withdrawal\", \"POS Payment\", \"Bank Transfer\", \"Crypto Exchange\"], num_transactions)"
      ],
      "metadata": {
        "id": "T1iQce23HRM5"
      },
      "execution_count": 27,
      "outputs": []
    },
    {
      "cell_type": "code",
      "source": [
        "transaction_frequency = np.random.randint(1, 50, num_transactions)  # Number of transactions per user per month"
      ],
      "metadata": {
        "id": "RCGqjeM_Haw8"
      },
      "execution_count": 28,
      "outputs": []
    },
    {
      "cell_type": "code",
      "source": [
        "past_fraud = np.random.choice([0, 1], num_transactions, p=[0.95, 0.05])"
      ],
      "metadata": {
        "id": "ODfWZmhQHg7V"
      },
      "execution_count": 29,
      "outputs": []
    },
    {
      "cell_type": "code",
      "source": [
        "fraud_labels = np.random.choice([0, 1], num_transactions, p=[0.96, 0.04])"
      ],
      "metadata": {
        "id": "MUpn2bccHjJ6"
      },
      "execution_count": 30,
      "outputs": []
    },
    {
      "cell_type": "code",
      "source": [
        "for i in range(num_transactions):\n",
        "    if (transaction_amounts[i] > 5000 or\n",
        "        transaction_times[i] in [0, 1, 2, 3, 4, 5] or\n",
        "        transaction_frequency[i] > 40 or\n",
        "        past_fraud[i] == 1):\n",
        "        fraud_labels[i] = np.random.choice([0, 1], p=[0.6, 0.4])"
      ],
      "metadata": {
        "id": "V8WqxLYKHlzD"
      },
      "execution_count": 31,
      "outputs": []
    },
    {
      "cell_type": "code",
      "source": [
        "location_map = {loc: i for i, loc in enumerate(set(locations))}\n",
        "device_map = {dev: i for i, dev in enumerate(set(device_types))}\n",
        "transaction_map = {t: i for i, t in enumerate(set(transaction_types))}\n",
        "\n",
        "locations_encoded = [location_map[loc] for loc in locations]\n",
        "device_types_encoded = [device_map[dev] for dev in device_types]\n",
        "transaction_types_encoded = [transaction_map[t] for t in transaction_types]"
      ],
      "metadata": {
        "id": "8N9qWK0EHoMB"
      },
      "execution_count": 32,
      "outputs": []
    },
    {
      "cell_type": "code",
      "source": [
        "df = pd.DataFrame({\n",
        "    \"transaction_amount\": transaction_amounts,\n",
        "    \"transaction_time\": transaction_times,\n",
        "    \"location\": locations_encoded,\n",
        "    \"device_type\": device_types_encoded,\n",
        "    \"transaction_type\": transaction_types_encoded,\n",
        "    \"transaction_frequency\": transaction_frequency,\n",
        "    \"past_fraud\": past_fraud,\n",
        "    \"fraudulent\": fraud_labels\n",
        "})"
      ],
      "metadata": {
        "id": "6xo6alxTHrC7"
      },
      "execution_count": 33,
      "outputs": []
    },
    {
      "cell_type": "code",
      "source": [
        "df.to_csv(\"advanced_fraud_transactions.csv\", index=False)\n",
        "print(\"Advanced fraud dataset generated and saved as 'advanced_fraud_transactions.csv'\")"
      ],
      "metadata": {
        "colab": {
          "base_uri": "https://localhost:8080/"
        },
        "id": "2bwpn9zuHtms",
        "outputId": "4b3ec8ad-7da0-4bc9-ebfc-64bbf90d7927"
      },
      "execution_count": 34,
      "outputs": [
        {
          "output_type": "stream",
          "name": "stdout",
          "text": [
            "Advanced fraud dataset generated and saved as 'advanced_fraud_transactions.csv'\n"
          ]
        }
      ]
    }
  ],
  "metadata": {
    "colab": {
      "name": "Welcome To Colab",
      "provenance": [],
      "include_colab_link": true
    },
    "kernelspec": {
      "display_name": "Python 3",
      "name": "python3"
    }
  },
  "nbformat": 4,
  "nbformat_minor": 0
}